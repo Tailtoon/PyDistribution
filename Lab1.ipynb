{
 "cells": [
  {
   "cell_type": "markdown",
   "metadata": {},
   "source": [
    "Функция генерации определенного количества СВ (для каждого закона)\n",
    "1) Биномиальное распределение\n",
    "2) Распределение Бернулли\n",
    "3) Геометрическое распределение\n",
    "4) Распределение Пуассона\n",
    "5) Экспоненциальное распределение\n",
    "6) Равномерное распределение\n",
    "7) Нормальное распределение\n",
    "8) Распределение хи-квадрат\n",
    "9) Распределение Стьюдента\n",
    "10) Распределение Фишера\n",
    "11) Распределение Вейбулла\n",
    "\n",
    "3 выборки:\n",
    "до 10\n",
    "до 20\n",
    "до 40\n",
    "до 100\n",
    "и больше 100 на свой выбор\n",
    "\n",
    "для выборок посчитать оценки\n",
    "мат ожиадание\n",
    "ско в двух видах (смещенная и несмещенная)\n",
    "медиана\n",
    "\n",
    "Вторая часть (на следующую пару)\n",
    "добавить шум (по этому же закону и по другому)\n",
    "посчитать корреляцию и ковариацию для исходного и зашумленного ряда \n",
    "\n",
    "Ход работы:\n",
    "Загрузим следующие бибилотеки: scipy, numpy, seaborn, matplotlib. И обозначим функции для создания анимации для непрерывных и дискретных распределений."
   ]
  },
  {
   "cell_type": "code",
   "execution_count": 1,
   "metadata": {},
   "outputs": [],
   "source": [
    "import scipy.stats as spystats\n",
    "import seaborn as sb\n",
    "import matplotlib.pyplot as plt\n",
    "import matplotlib.animation as animation\n",
    "from matplotlib import rc\n",
    "import numpy as np\n",
    "\n",
    "def getAnimNepr(model, name, ran, bins):\n",
    "        s = 100\n",
    "\n",
    "        fig = plt.figure(figsize=(20, 9))\n",
    "        ax1 = plt.subplot(1, 2, 1)\n",
    "\n",
    "        ax2 = plt.subplot(1, 2, 2)\n",
    "        ax2.set_xticks(np.arange(5), [str(10 ** (i + 1)) for i in range(5)])\n",
    "        mean = model.mean()\n",
    "        ax2.set_xlim(0, 4)\n",
    "        ax2.set_ylim(mean - 1, mean + 1)\n",
    "        meanline, = ax2.plot([], [], 'g', lw=2)\n",
    "        ax2.plot([0, 4], [mean, mean], 'r', lw=2)\n",
    "        meanline_list = [[], []]\n",
    "\n",
    "        def animate(i, *fargs):\n",
    "                ax1.cla()\n",
    "                s = 10 ** (i + 1)\n",
    "                data = model.rvs(size = s)\n",
    "                ax1.set_ylim(0, 1)\n",
    "                grid = np.linspace(ran[0], ran[1], 1000)\n",
    "                ax1.hist(data, bins=100, density=True, range=(ran[0], ran[1]),\n",
    "                                alpha=0.5, label=\"Гистограмма выборки\")\n",
    "                ax1.plot(grid, model.pdf(grid), color=\"red\",\n",
    "                                lw=5, label=\"Плотность случайной величины\")\n",
    "                ax1.set_title(\"{}, size = {}\\nM(X) = {}\\nStandart deviation = {}\\nMedian = {}\".format(name, s,\n",
    "                                                        data.mean(), data.std(), np.median(data)), fontsize=15)\n",
    "                fargs[1][0].append(i)\n",
    "                fargs[1][1].append(data.mean())\n",
    "                fargs[0].set_data(fargs[1][0], fargs[1][1])\n",
    "                ax2.set_ylim(min(min(fargs[1][1]), mean) - 1e-2, max(max(fargs[1][1]), mean) + 1e-2)\n",
    "                \n",
    "                #print(i, fargs[0].get_xdata())\n",
    "                \n",
    "        args = (meanline, meanline_list)\n",
    "        anim = animation.FuncAnimation(fig, animate, fargs=args, frames=5, interval=1000)\n",
    "        return anim\n",
    "\n",
    "def getAnimDiscr(model, name):\n",
    "        s = 100\n",
    "\n",
    "        fig = plt.figure(figsize=(20, 9))\n",
    "        ax1 = plt.subplot(1, 2, 1)\n",
    "\n",
    "        ax2 = plt.subplot(1, 2, 2)\n",
    "        ax2.set_xticks(np.arange(5), [str(10 ** (i + 1)) for i in range(5)])\n",
    "        mean = model.mean()\n",
    "        ax2.set_xlim(0, 4)\n",
    "        ax2.set_ylim(mean - 1, mean + 1)\n",
    "        meanline, = ax2.plot([], [], 'g', lw=2)\n",
    "        ax2.plot([0, 4], [mean, mean], 'r', lw=2)\n",
    "        meanline_list = [[], []]\n",
    "\n",
    "        def animate(i, *fargs):\n",
    "                ax1.cla()\n",
    "                s = 10 ** (i + 1)\n",
    "                data = model.rvs(size = s)\n",
    "                sb.histplot(data, stat=\"density\", discrete=True, shrink= 0.5, ax=ax1)\n",
    "                ax1.set_title(\"{}, size = {}\\nM(X) = {}\\nStandart deviation = {}\\nMedian = {}\".format(name, s,\n",
    "                                                        data.mean(), data.std(), np.median(data)), fontsize=15)\n",
    "                fargs[1][0].append(i)\n",
    "                fargs[1][1].append(data.mean())\n",
    "                fargs[0].set_data(fargs[1][0], fargs[1][1])\n",
    "                ax2.set_ylim(min(min(fargs[1][1]), mean) - 1e-2, max(max(fargs[1][1]), mean) + 1e-2)\n",
    "                \n",
    "                #print(i, fargs[0].get_xdata())\n",
    "                \n",
    "        args = (meanline, meanline_list)\n",
    "        anim = animation.FuncAnimation(fig, animate, fargs=args, frames=5, interval=1000)\n",
    "        return anim"
   ]
  },
  {
   "cell_type": "markdown",
   "metadata": {},
   "source": [
    "1) Биномиальное распределение"
   ]
  },
  {
   "cell_type": "code",
   "execution_count": null,
   "metadata": {},
   "outputs": [],
   "source": [
    "n, p = 100, 0.5\n",
    "getAnimDiscr(spystats.binom(n, p), \"Биномиальное распределение\")"
   ]
  },
  {
   "cell_type": "markdown",
   "metadata": {},
   "source": [
    "2) Распределение Бернулли"
   ]
  },
  {
   "cell_type": "code",
   "execution_count": null,
   "metadata": {},
   "outputs": [],
   "source": [
    "p = 0.8\n",
    "getAnimDiscr(spystats.bernoulli(p), \"Распределение Бернулли\")"
   ]
  },
  {
   "cell_type": "markdown",
   "metadata": {},
   "source": [
    "3) Геометрическое распределение"
   ]
  },
  {
   "cell_type": "code",
   "execution_count": null,
   "metadata": {},
   "outputs": [],
   "source": [
    "p = 0.8\n",
    "getAnimDiscr(spystats.geom(p), \"Геометрическое распределение\")"
   ]
  },
  {
   "cell_type": "markdown",
   "metadata": {},
   "source": [
    "4) Распределение Пуассона"
   ]
  },
  {
   "cell_type": "code",
   "execution_count": null,
   "metadata": {},
   "outputs": [],
   "source": [
    "mu = 2\n",
    "getAnimDiscr(spystats.poisson(mu), \"Распределение Пуассона\")"
   ]
  },
  {
   "cell_type": "markdown",
   "metadata": {},
   "source": [
    "5) Экспоненциальное распределение"
   ]
  },
  {
   "cell_type": "code",
   "execution_count": null,
   "metadata": {},
   "outputs": [],
   "source": [
    "getAnimNepr(spystats.expon(), \"Экспоненциальное распределение\", (-1, 8), 100)"
   ]
  },
  {
   "cell_type": "markdown",
   "metadata": {},
   "source": [
    "6) Равномерное распределение"
   ]
  },
  {
   "cell_type": "code",
   "execution_count": null,
   "metadata": {},
   "outputs": [],
   "source": [
    "getAnimNepr(spystats.uniform(), \"Равномерное распределение\", (-1, 2), 100)"
   ]
  },
  {
   "cell_type": "markdown",
   "metadata": {},
   "source": [
    "7) Нормальное распределение"
   ]
  },
  {
   "cell_type": "code",
   "execution_count": null,
   "metadata": {},
   "outputs": [],
   "source": [
    "getAnimNepr(spystats.norm(), \"Нормальное распределение\", (-4, 4), 100)"
   ]
  },
  {
   "cell_type": "markdown",
   "metadata": {},
   "source": [
    "8) Распределение хи-квадрат"
   ]
  },
  {
   "cell_type": "code",
   "execution_count": null,
   "metadata": {},
   "outputs": [],
   "source": [
    "k = 2\n",
    "getAnimNepr(spystats.chi2(k), \"Распределение хи-квадрат\", (-1, 20), 100)"
   ]
  },
  {
   "cell_type": "markdown",
   "metadata": {},
   "source": [
    "9) Распределение Стьюдента"
   ]
  },
  {
   "cell_type": "code",
   "execution_count": null,
   "metadata": {},
   "outputs": [],
   "source": [
    "k = 2\n",
    "getAnimNepr(spystats.t(k), \"Распределение Стьюдента\", (-25, 25), 100)"
   ]
  },
  {
   "cell_type": "markdown",
   "metadata": {},
   "source": [
    "10) Распределение Фишера"
   ]
  },
  {
   "cell_type": "code",
   "execution_count": null,
   "metadata": {},
   "outputs": [],
   "source": [
    "d1, d2 = 3, 3\n",
    "getAnimNepr(spystats.f(d1, d2), \"Распределение Фишера\", (-1, 5), 100)"
   ]
  },
  {
   "cell_type": "markdown",
   "metadata": {},
   "source": [
    "11) Распределение Вейбулла"
   ]
  },
  {
   "cell_type": "code",
   "execution_count": null,
   "metadata": {},
   "outputs": [],
   "source": [
    "c = 2\n",
    "getAnimNepr(spystats.weibull_min(c), \"Распределение Вейбулла\", (-1, 5), 100)"
   ]
  },
  {
   "cell_type": "code",
   "execution_count": 34,
   "metadata": {},
   "outputs": [
    {
     "name": "stdout",
     "output_type": "stream",
     "text": [
      "SumArray: \n",
      " [57.06565176 46.77563965 70.34179214 ... 59.27410579 66.08323399\n",
      " 60.34524323]\n",
      "Shape =  (1000000,)\n",
      "ConcatArray: \n",
      " [49.         39.         50.         ...  1.43090561  1.34959454\n",
      "  0.38776896]\n",
      "Shape =  (11000000,)\n"
     ]
    },
    {
     "data": {
      "image/png": "[encoded data removed]",
      "text/plain": [
       "<Figure size 1440x648 with 2 Axes>"
      ]
     },
     "metadata": {
      "needs_background": "light"
     },
     "output_type": "display_data"
    }
   ],
   "source": [
    "s = 1000000\n",
    "concatArray = np.array([ spystats.binom(100, 0.5).rvs(size = s), #\"Биномиальное распределение\")\n",
    "spystats.bernoulli(0.8).rvs(size = s), #\"Распределение Бернулли\")\n",
    "spystats.geom(0.8).rvs(size = s), #\"Геометрическое распределение\")\n",
    "spystats.poisson(2).rvs(size = s), #\"Распределение Пуассона\")\n",
    "spystats.expon().rvs(size = s), #\"Экспоненциальное распределение\", (-1, 8), 100)\n",
    "spystats.uniform().rvs(size = s), #\"Равномерное распределение\", (-1, 2), 100)\n",
    "spystats.norm().rvs(size = s), #\"Нормальное распределение\", (-4, 4), 100)\n",
    "spystats.chi2(2).rvs(size = s), #\"Распределение хи-квадрат\", (-1, 20), 100)\n",
    "spystats.t(2).rvs(size = s), #\"Распределение Стьюдента\", (-25, 25), 100)\n",
    "spystats.f(3, 3).rvs(size = s), #\"Распределение Фишера\", (-1, 5), 100)\n",
    "spystats.weibull_min(2).rvs(size = s),]) #\"Распределение Вейбулла\", (-1, 5), 100)\n",
    "sumArray = concatArray.sum(0)\n",
    "concatArray = np.reshape(concatArray, s * 11)\n",
    "print(\"SumArray: \\n\", sumArray)\n",
    "print(\"Shape = \", sumArray.shape)\n",
    "print(\"ConcatArray: \\n\", concatArray)\n",
    "print(\"Shape = \", concatArray.shape)\n",
    "\n",
    "fig = plt.figure(figsize=(20, 9))\n",
    "ax1 = plt.subplot(1, 2, 1)\n",
    "\n",
    "ax2 = plt.subplot(1, 2, 2)\n",
    "ax1.set_ylim(0, 1)\n",
    "ax1.hist(concatArray, bins=100, density=True, range=(-5, 5), alpha=0.5, label=\"Гистограмма выборки\")\n",
    "ax2.hist(sumArray, bins=100, density=True, range=(-5, 5), alpha=0.5, label=\"Гистограмма выборки\")\n",
    "ax1.set_title(\"{}, bins = {}\\nM(X) = {}\\nStandart deviation = {}\\nMedian = {}\".format(\"Конкатинация распределений\", 100,\n",
    "                                        concatArray.mean(), concatArray.std(), np.median(concatArray)), fontsize=15)\n",
    "plt.show()"
   ]
  },
  {
   "cell_type": "code",
   "execution_count": null,
   "metadata": {},
   "outputs": [],
   "source": []
  }
 ],
 "metadata": {
  "interpreter": {
   "hash": "072ad2717aced13da2464633fafffe265ee2565f90b63192d9763df769f68df5"
  },
  "kernelspec": {
   "display_name": "Python 3.10.1 64-bit",
   "language": "python",
   "name": "python3"
  },
  "language_info": {
   "codemirror_mode": {
    "name": "ipython",
    "version": 3
   },
   "file_extension": ".py",
   "mimetype": "text/x-python",
   "name": "python",
   "nbconvert_exporter": "python",
   "pygments_lexer": "ipython3",
   "version": "3.10.2"
  },
  "orig_nbformat": 4
 },
 "nbformat": 4,
 "nbformat_minor": 2
}
