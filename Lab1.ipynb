{
 "cells": [
  {
   "cell_type": "markdown",
   "metadata": {},
   "source": [
    "Функция генерации определенного количества СВ (для каждого закона)\n",
    "1) Биномиальное распределение\n",
    "2) Распределение Бернулли\n",
    "3) Геометрическое распределение\n",
    "4) Распределение Пуассона\n",
    "5) Экспоненциальное распределение\n",
    "6) Равномерное распределение\n",
    "7) Нормальное распределение\n",
    "8) Распределение хи-квадрат\n",
    "9) Распределение Стьюдента\n",
    "10) Распределение Фишера\n",
    "11) Распределение Вейбулла\n",
    "\n",
    "3 выборки:\n",
    "до 10\n",
    "до 20\n",
    "до 40\n",
    "до 100\n",
    "и больше 100 на свой выбор\n",
    "\n",
    "для выборок посчитать оценки\n",
    "мат ожиадание\n",
    "ско в двух видах (смещенная и несмещенная)\n",
    "медиана\n",
    "\n",
    "Вторая часть (на следующую пару)\n",
    "добавить шум (по этому же закону и по другому)\n",
    "посчитать корреляцию и ковариацию для исходного и зашумленного ряда \n",
    "\n",
    "Ход работы:\n",
    "Загрузим следующие бибилотеки: scipy, numpy, seaborn, matplotlib. И обозначим функции для создания анимации для непрерывных и дискретных распределений."
   ]
  },
  {
   "cell_type": "code",
   "execution_count": null,
   "metadata": {},
   "outputs": [],
   "source": [
    "import scipy.stats as spystats\n",
    "import seaborn as sb\n",
    "import matplotlib.pyplot as plt\n",
    "import matplotlib.animation as animation\n",
    "from matplotlib import rc\n",
    "import numpy as np\n",
    "\n",
    "def getAnimNepr(model, name, ran, bins):\n",
    "        s = 100\n",
    "\n",
    "        fig = plt.figure(figsize=(20, 9))\n",
    "        ax1 = plt.subplot(1, 2, 1)\n",
    "\n",
    "        ax2 = plt.subplot(1, 2, 2)\n",
    "        ax2.set_xticks(np.arange(5), [str(10 ** (i + 1)) for i in range(5)])\n",
    "        mean = model.mean()\n",
    "        ax2.set_xlim(0, 4)\n",
    "        ax2.set_ylim(mean - 1, mean + 1)\n",
    "        meanline, = ax2.plot([], [], 'g', lw=2)\n",
    "        ax2.plot([0, 4], [mean, mean], 'r', lw=2)\n",
    "        meanline_list = [[], []]\n",
    "\n",
    "        def animate(i, *fargs):\n",
    "                ax1.cla()\n",
    "                s = 10 ** (i + 1)\n",
    "                data = model.rvs(size = s)\n",
    "                ax1.set_ylim(0, 1)\n",
    "                grid = np.linspace(ran[0], ran[1], 1000)\n",
    "                ax1.hist(data, bins=100, density=True, range=(ran[0], ran[1]),\n",
    "                                alpha=0.5, label=\"Гистограмма выборки\")\n",
    "                ax1.plot(grid, model.pdf(grid), color=\"red\",\n",
    "                                lw=5, label=\"Плотность случайной величины\")\n",
    "                ax1.set_title(\"{}, size = {}\\nM(X) = {}\\nStandart deviation = {}\\nMedian = {}\".format(name, s,\n",
    "                                                        data.mean(), data.std(), np.median(data)), fontsize=15)\n",
    "                fargs[1][0].append(i)\n",
    "                fargs[1][1].append(data.mean())\n",
    "                fargs[0].set_data(fargs[1][0], fargs[1][1])\n",
    "                ax2.set_ylim(min(min(fargs[1][1]), mean) - 1e-2, max(max(fargs[1][1]), mean) + 1e-2)\n",
    "                \n",
    "                #print(i, fargs[0].get_xdata())\n",
    "                \n",
    "        args = (meanline, meanline_list)\n",
    "        anim = animation.FuncAnimation(fig, animate, fargs=args, frames=5, interval=1000)\n",
    "        return anim\n",
    "\n",
    "def getAnimDiscr(model, name):\n",
    "        s = 100\n",
    "\n",
    "        fig = plt.figure(figsize=(20, 9))\n",
    "        ax1 = plt.subplot(1, 2, 1)\n",
    "\n",
    "        ax2 = plt.subplot(1, 2, 2)\n",
    "        ax2.set_xticks(np.arange(5), [str(10 ** (i + 1)) for i in range(5)])\n",
    "        mean = model.mean()\n",
    "        ax2.set_xlim(0, 4)\n",
    "        ax2.set_ylim(mean - 1, mean + 1)\n",
    "        meanline, = ax2.plot([], [], 'g', lw=2)\n",
    "        ax2.plot([0, 4], [mean, mean], 'r', lw=2)\n",
    "        meanline_list = [[], []]\n",
    "\n",
    "        def animate(i, *fargs):\n",
    "                ax1.cla()\n",
    "                s = 10 ** (i + 1)\n",
    "                data = model.rvs(size = s)\n",
    "                sb.histplot(data, stat=\"density\", discrete=True, shrink= 0.5, ax=ax1)\n",
    "                ax1.set_title(\"{}, size = {}\\nM(X) = {}\\nStandart deviation = {}\\nMedian = {}\".format(name, s,\n",
    "                                                        data.mean(), data.std(), np.median(data)), fontsize=15)\n",
    "                fargs[1][0].append(i)\n",
    "                fargs[1][1].append(data.mean())\n",
    "                fargs[0].set_data(fargs[1][0], fargs[1][1])\n",
    "                ax2.set_ylim(min(min(fargs[1][1]), mean) - 1e-2, max(max(fargs[1][1]), mean) + 1e-2)\n",
    "                \n",
    "                #print(i, fargs[0].get_xdata())\n",
    "                \n",
    "        args = (meanline, meanline_list)\n",
    "        anim = animation.FuncAnimation(fig, animate, fargs=args, frames=5, interval=1000)\n",
    "        return anim"
   ]
  },
  {
   "cell_type": "markdown",
   "metadata": {},
   "source": [
    "## 1) Биномиальное распределение\n",
    " \n",
    "Биномиальное распределение используется, когда необходимо определить сколько раз происходит некоторое событие в серии из определенного числа независимых опытов, выполняемых в одинаковых условиях.\n",
    " \n",
    "$f(x;n,p)=C_n^k p^x q^{(n-x)}$\n",
    " \n",
    "$F(x;n,p)=\\sum_{i=0}^x C_n^i p^i q^{(n-i)}$\n",
    " \n",
    "$n \\geq 0$ - число независимых испытаний\n",
    " \n",
    "$0 \\leq p \\leq 1$ - вероятность появления некоторого события в каждом испытании\n",
    " \n",
    "$q = 1 - p$ - вероятность не появления некоторого события в каждом испытании\n",
    " \n",
    "$M(X) = np$\n",
    " \n",
    "$D(X) = npq$\n",
    " \n",
    "$\\sigma(X) = \\sqrt{npq}$"
   ]
  },
  {
   "cell_type": "code",
   "execution_count": null,
   "metadata": {},
   "outputs": [],
   "source": [
    "n, p = 100, 0.5\n",
    "getAnimDiscr(spystats.binom(n, p), \"Биномиальное распределение\")"
   ]
  },
  {
   "cell_type": "markdown",
   "metadata": {},
   "source": [
    "## 2) Распределение Бернулли\n",
    "\n",
    "Распределение Бернулли является частным случаем биномиального распределения, где проводится одно испытание (поэтому n будет равно 1 для такого биномиального распределения).\n",
    "\n",
    "Распределение применяется для моделирования случайного эксперимента произвольной природы, когда заранее известна вероятность успеха или неудачи.\n",
    "\n",
    "$$f(x) = \\left\\{\n",
    "\\begin{matrix}\n",
    "1 - p, & x = 0 \\\\\n",
    "p, & x = 1\n",
    "\\end{matrix}\n",
    "\\right..$$\n",
    "\n",
    "Принято говорить, что событие $ \\{X=1\\}$ соответствует «успеху», а событие $ \\{X=0\\}$ — «неудаче». Эти названия условные, и в зависимости от конкретной задачи могут быть заменены на противоположные.\n",
    "\n",
    "$0 \\leq p \\leq 1$ - вероятность появления события в испытании\n",
    "\n",
    "$ M(X) = p $;\n",
    "\n",
    "$D(X) = p \\cdot (1 - p) = p \\cdot q $;\n",
    "\n",
    "$\\sigma(X) = \\sqrt{p \\cdot q}$.\n"
   ]
  },
  {
   "cell_type": "code",
   "execution_count": null,
   "metadata": {},
   "outputs": [],
   "source": [
    "p = 0.8\n",
    "getAnimDiscr(spystats.bernoulli(p), \"Распределение Бернулли\")"
   ]
  },
  {
   "cell_type": "markdown",
   "metadata": {},
   "source": [
    "## 3) Геометрическое распределение\n",
    " \n",
    "Величину X геометрического распределения можно интерпретировать как число испытаний (n) до первого появления успеха в схеме независимых испытаний с вероятностью появления успеха р.\n",
    " \n",
    "$F(x)=q^{n}p$\n",
    " \n",
    "$f(x)=1-q^n$\n",
    " \n",
    "$n \\geq 0$ - число \"неудач\" до первого \"успеха\"\n",
    " \n",
    "$0 \\leq p \\leq 1$ - вероятность появления события в испытании\n",
    " \n",
    "$q = 1 - p$ - вероятность не появления события в каждом испытании\n",
    " \n",
    "$ M(X) = \\frac {q}{p} $;\n",
    " \n",
    "$D(X) = \\frac {q}{p^2}$;\n",
    " \n",
    "$\\sigma(X) = \\frac {\\sqrt{q}}{p}$."
   ]
  },
  {
   "cell_type": "code",
   "execution_count": null,
   "metadata": {},
   "outputs": [],
   "source": [
    "p = 0.8\n",
    "getAnimDiscr(spystats.geom(p), \"Геометрическое распределение\")"
   ]
  },
  {
   "cell_type": "markdown",
   "metadata": {},
   "source": [
    "## 4) Распределение Пуассона\n",
    "— распределение дискретного типа случайной величины, представляющей собой число событий, произошедших за фиксированное время, при условии, что данные события происходят с некоторой фиксированной средней интенсивностью и независимо друг от друга.\n",
    "\n",
    "Примеры ситуаций, которые можно смоделировать, применив это распределение: поломки оборудования, длительность исполнения ремонтных работ стабильно работающим сотрудником, ошибка печати, рост колонии бактерий в чашке Петри, дефекты в длинной ленте или цепи, импульсы счётчика радиоактивного излучения, количество забиваемых футбольной командой голов и др.\n",
    "\n",
    "$f(x) = {\\frac {exp(-\\mu) \\cdot \\mu ^{x}}{x!}}, x \\ge 0$\n",
    "\n",
    "$ \\mu $ - среднее количество событий за фиксированный промежуток времени\n",
    "\n",
    "$ M(X) = \\mu $;\n",
    "\n",
    "$D(X) = \\mu $;\n",
    "\n",
    "$\\sigma(X) = \\sqrt{ \\mu }$."
   ]
  },
  {
   "cell_type": "code",
   "execution_count": null,
   "metadata": {},
   "outputs": [],
   "source": [
    "mu = 2\n",
    "getAnimDiscr(spystats.poisson(mu), \"Распределение Пуассона\")"
   ]
  },
  {
   "cell_type": "markdown",
   "metadata": {},
   "source": [
    "## 5) Экспоненциальное распределение\n",
    " \n",
    "Экспоненциальное распределение предсказывает периоды времени между событиями (такими как успех, отказ, доставка и т.д.). Это непрерывное распределение, моделирующее время между двумя последовательными свершениями одного и того же события.\n",
    "Параметры: $\\lambda > 0$,  - среднее число событий за фиксированный промежуток времени = интенсивность (мат. ожидание).\n",
    " \n",
    "Экспоненциальное распределение применяется при моделировании времени ожидания, моделировании отказа, моделировании времени обслуживания.\n",
    "Если число событий в единицу времени соответствует распределению Пуассона, тогда период времени между событиями соответствует экспоненциальному распределению.\n",
    " \n",
    "$f_{X}(x)={\\begin{cases}\\lambda \\,e^{{-\\lambda x}},&x\\geq 0,\\\\0,&x<0.\\end{cases}}$\n",
    " \n",
    "$F_{X}(x)=\\left\\{{\\begin{matrix}1-e^{{-\\lambda x}}&,\\;x\\geq 0,\\\\0&,\\;x<0.\\end{matrix}}\\right.$\n",
    " \n",
    "$M(X) = {\\lambda ^{-1}}$\n",
    " \n",
    "$D(X) = {\\lambda ^{-2}}$\n",
    " \n",
    "$\\sigma(X) = \\sqrt{\\lambda ^{-2}}$"
   ]
  },
  {
   "cell_type": "code",
   "execution_count": null,
   "metadata": {},
   "outputs": [],
   "source": [
    "getAnimNepr(spystats.expon(), \"Экспоненциальное распределение\", (-1, 8), 100)"
   ]
  },
  {
   "cell_type": "markdown",
   "metadata": {},
   "source": [
    "## 6) Равномерное распределение\n",
    "— распределение случайной вещественной величины, принимающей значения, принадлежащие некоторому промежутку конечной длины, характеризующееся тем, что плотность вероятности на этом промежутке почти всюду постоянна.\n",
    "\n",
    "В современной вычислительной технике при моделировании случайных процессов часто приходится пользоваться с.в. X, имеющей равномерное распределение в пределах от 0 до 1.\n",
    "\n",
    "$$f(x) = \\left\\{\n",
    "\\begin{matrix}\n",
    "\\frac{1}{b-a}, & x \\in [a, b] \\\\\n",
    "0, & x \\not \\in [a, b]\n",
    "\\end{matrix}\n",
    "\\right..$$\n",
    "\n",
    "Если ${a=0}$ и ${b=1}$, то такое равномерное распределение называют стандартным.\n",
    "\n",
    "$ M(X) = \\frac{a+b}{2} $;\n",
    "\n",
    "$D(X) = \\frac{(b-a)^2}{12} $;\n",
    "\n",
    "$\\sigma(X) = \\frac{b-a}{\\sqrt{12}}$."
   ]
  },
  {
   "cell_type": "code",
   "execution_count": null,
   "metadata": {},
   "outputs": [],
   "source": [
    "getAnimNepr(spystats.uniform(), \"Равномерное распределение\", (-1, 2), 100)"
   ]
  },
  {
   "cell_type": "markdown",
   "metadata": {},
   "source": [
    "## 7) Нормальное распределение\n",
    " \n",
    "Нормальное распределение часто встречается в природе. Например, следующие случайные величины хорошо моделируются нормальным распределением:\n",
    " \n",
    "1. отклонение при стрельбе;\n",
    "2. погрешности измерений (однако погрешности некоторых измерительных приборов имеют иное распределение);\n",
    "3. некоторые характеристики живых организмов в популяции.\n",
    " \n",
    "Стандартным нормальным распределением называется нормальное распределение с математическим ожиданием ${\\mu =0}$ и стандартным отклонением ${ \\sigma =1.}$\n",
    " \n",
    "${ f(x)={\\frac {1}{\\sigma {\\sqrt {2\\pi }}}}e^{-{\\frac {1}{2}}\\left({\\frac {x-\\mu }{\\sigma }}\\right)^{2}}}$\n",
    " \n",
    "где параметр ${\\mu }$  — математическое ожидание (среднее значение), медиана и мода распределения, а параметр ${\\sigma }$ — среднеквадратическое отклонение, ${ \\sigma ^{2}}$ — дисперсия распределения.\n",
    " \n",
    "Функция распределения:\n",
    "\n",
    "${ \\Phi (x)={\\frac {1}{\\sqrt {2\\pi }}}\\int \\limits _{-\\infty }^{x}e^{-t^{2}/2}\\,dt.}$\n",
    " \n",
    "$M(X) = \\mu$\n",
    " \n",
    "$D(X) =  {\\sigma ^{2}} $\n",
    " \n",
    "$\\sigma(X) = \\sigma $\n"
   ]
  },
  {
   "cell_type": "code",
   "execution_count": null,
   "metadata": {},
   "outputs": [],
   "source": [
    "getAnimNepr(spystats.norm(), \"Нормальное распределение\", (-4, 4), 100)"
   ]
  },
  {
   "cell_type": "markdown",
   "metadata": {},
   "source": [
    "## 8) Распределение хи-квадрат\n",
    "— распределение суммы квадратов ${k}$ независимых стандартных нормальных случайных величин.\n",
    " \n",
    "Распределение имеет многочисленные приложения при статистических выводах, например:\n",
    "1) при использовании критерия хи-квадрат и при оценке дисперсий;\n",
    "2) в проблеме оценивания среднего нормально распределённой популяции и проблеме оценивания наклона линии регрессии;\n",
    "3) в дисперсионном анализе.\n",
    " \n",
    "$f(x, k) = {\\frac {(1/2)^{k/2}}{\\Gamma (k/2)}}x^{k/2-1}e^{-x/2}$\n",
    " \n",
    "где ${\\displaystyle \\Gamma (z)=\\int \\limits _{0}^{+\\infty }t^{z-1}e^{-t}\\,dt,\\quad z\\in \\mathbb {C} ,\\quad \\mathrm {Re} (z)>0}$ - гамма-функция\n",
    " \n",
    "$ M(X) = k $;\n",
    " \n",
    "$D(X) = 2 \\cdot k $;\n",
    " \n",
    "$\\sigma(X) = \\sqrt{2 \\cdot k}$."
   ]
  },
  {
   "cell_type": "code",
   "execution_count": null,
   "metadata": {},
   "outputs": [],
   "source": [
    "k = 2\n",
    "getAnimNepr(spystats.chi2(k), \"Распределение хи-квадрат\", (-1, 20), 100)"
   ]
  },
  {
   "cell_type": "markdown",
   "metadata": {},
   "source": [
    "## 9) Распределение Стьюдента\n",
    " \n",
    "Распределение Стьюдента играет важную роль в статистическом анализе и используется, например, в t-критерии Стьюдента для оценки статистической значимости разности двух выборочных средних, при построении доверительного интервала для математического ожидания нормальной совокупности при неизвестной дисперсии, а также в линейном регрессионном анализе\n",
    " \n",
    "${\\ f_{t}(y)={\\frac {\\Gamma \\left({\\frac {n+1}{2}}\\right)}{{\\sqrt {n\\pi }}\\,\\Gamma \\left({\\frac {n}{2}}\\right)}}\\,\\left(1+{\\frac {y^{2}}{n}}\\right)^{-{\\frac {n+1}{2}}}}$\n",
    " \n",
    "где ${\\displaystyle \\Gamma (z)=\\int \\limits _{0}^{+\\infty }t^{z-1}e^{-t}\\,dt,\\quad z\\in \\mathbb {C} ,\\quad \\mathrm {Re} (z)>0}$ - гамма-функция\n",
    " \n",
    "$M(X) = 0, n > 1$\n",
    " \n",
    "$D(X) = 0$\n",
    " \n",
    "$\\sigma(X) = {\\frac  {n}{n-2}}, n > 2$"
   ]
  },
  {
   "cell_type": "code",
   "execution_count": null,
   "metadata": {},
   "outputs": [],
   "source": [
    "k = 2\n",
    "getAnimNepr(spystats.t(k), \"Распределение Стьюдента\", (-25, 25), 100)"
   ]
  },
  {
   "cell_type": "markdown",
   "metadata": {},
   "source": [
    "## 10) Распределение Фишера\n",
    " \n",
    "На распределении Фишера основан ряд статистических тестов, таких как оценка значимости параметров регрессии, тест на гетероскедастичность и тест на равенство дисперсий нормальных выборок\n",
    " \n",
    "Распределение Фишера определено для действительных неотрицательных аргументов\n",
    " \n",
    "Пусть $Y_{1},Y_{2}$ — две независимые случайные величины, имеющие распределение хи-квадрат: ${\\displaystyle Y_{i}\\sim \\chi ^{2}(d_{i})}$, где $\\in {\\mathbb  {N}},\\;i=1,2$. Тогда распределение случайной величины\n",
    " \n",
    "$F={\\frac  {Y_{1}/d_{1}}{Y_{2}/d_{2}}}$ называется распределением Фишера со степенями свободы $d_{1} и d_{2}.$\n",
    " \n",
    "$f(x)={\\displaystyle {\\frac {\\sqrt {\\frac {(d_{1}\\,x)^{d_{1}}\\,\\,d_{2}^{d_{2}}}{(d_{1}\\,x+d_{2})^{d_{1}+d_{2}}}}}{x\\,\\mathrm {B} \\!\\left({\\frac {d_{1}}{2}},{\\frac {d_{2}}{2}}\\right)}}}$\n",
    "\n",
    "где ${\\ \\mathrm {B} (x,y)=\\int \\limits _{0}^{1}t^{x-1}(1-t)^{y-1}\\,dt,}$\n",
    " \n",
    "$d_{1}>0,\\ d_{2}>0$ - числа степеней свободы\n",
    " \n",
    "$F(x)={\\displaystyle I_{\\frac {d_{1}x}{d_{1}x+d_{2}}}(d_{1}/2,d_{2}/2)}$\n",
    " \n",
    "$M(x)={\\displaystyle {\\frac {d_{2}}{d_{2}-2}}}$, если $d_2>2$\n",
    " \n",
    "$D(x)={\\displaystyle {\\frac {2\\,d_{2}^{2}\\,(d_{1}+d_{2}-2)}{d_{1}(d_{2}-2)^{2}(d_{2}-4)}},}$ если $d_2>4$"
   ]
  },
  {
   "cell_type": "code",
   "execution_count": null,
   "metadata": {},
   "outputs": [],
   "source": [
    "d1, d2 = 3, 3\n",
    "getAnimNepr(spystats.f(d1, d2), \"Распределение Фишера\", (-1, 5), 100)"
   ]
  },
  {
   "cell_type": "markdown",
   "metadata": {},
   "source": [
    "## 11) Распределение Вейбулла\n",
    " \n",
    "Примеры использования распределения Вейбулла:\n",
    "1. В анализе выживаемости\n",
    "2. В надёжности и анализе отказов\n",
    "3. В электротехнике для представления перенапряжения, возникающего в электрических цепях\n",
    "4. В промышленной инженерии\n",
    "5. В теории экстремальных значений\n",
    "6. В прогнозировании погоды (Для описания распределения скорости ветра как распределения, обычно совпадающего с распределением Вейбулла в ветроэнергетике)\n",
    " \n",
    "$$f_X(x) = \\left\\{\n",
    "\\begin{matrix}\n",
    "\\frac{k}{\\lambda} \\left(\\frac{x}{\\lambda}\\right)^{k-1} e^{-\\left(\\frac{x}{\\lambda}\\right)^k}, & x \\ge 0 \\\\\n",
    "0, & x < 0\n",
    "\\end{matrix}\n",
    "\\right..$$\n",
    " \n",
    "$F(x;k,\\lambda)=1- e^{-(x/\\lambda)^k}$\n",
    " \n",
    "$\\lambda > 0$ - коэффициент масштаба\n",
    " \n",
    "$k > 0$ - коэффициент формы\n",
    " \n",
    "$M(X) = {\\lambda \\Gamma \\left(1+{\\frac {1}{k}}\\right)}$\n",
    " \n",
    "$D(X) = {\\lambda ^{2}\\Gamma \\left(1+{\\frac {2}{k}}\\right)-\\mu ^{2}}$\n",
    " \n",
    "$\\sigma(X) = \\sqrt{D(X)}$\n",
    "\n",
    "где ${\\displaystyle \\Gamma (z)=\\int \\limits _{0}^{+\\infty }t^{z-1}e^{-t}\\,dt,\\quad z\\in \\mathbb {C} ,\\quad \\mathrm {Re} (z)>0}$ - гамма-функция"
   ]
  },
  {
   "cell_type": "code",
   "execution_count": null,
   "metadata": {},
   "outputs": [],
   "source": [
    "c = 2\n",
    "getAnimNepr(spystats.weibull_min(c), \"Распределение Вейбулла\", (-1, 5), 100)"
   ]
  },
  {
   "cell_type": "markdown",
   "metadata": {},
   "source": [
    "Построим гистограммы для конкатенации всех 11-и распределений и для их поэлементной суммы"
   ]
  },
  {
   "cell_type": "code",
   "execution_count": null,
   "metadata": {},
   "outputs": [],
   "source": [
    "s = 1000000\n",
    "concatArray = np.array([ spystats.binom(100, 0.5).rvs(size = s), #\"Биномиальное распределение\")\n",
    "spystats.bernoulli(0.8).rvs(size = s), #\"Распределение Бернулли\")\n",
    "spystats.geom(0.8).rvs(size = s), #\"Геометрическое распределение\")\n",
    "spystats.poisson(2).rvs(size = s), #\"Распределение Пуассона\")\n",
    "spystats.expon().rvs(size = s), #\"Экспоненциальное распределение\", (-1, 8), 100)\n",
    "spystats.uniform().rvs(size = s), #\"Равномерное распределение\", (-1, 2), 100)\n",
    "spystats.norm().rvs(size = s), #\"Нормальное распределение\", (-4, 4), 100)\n",
    "spystats.chi2(2).rvs(size = s), #\"Распределение хи-квадрат\", (-1, 20), 100)\n",
    "spystats.t(2).rvs(size = s), #\"Распределение Стьюдента\", (-25, 25), 100)\n",
    "spystats.f(3, 3).rvs(size = s), #\"Распределение Фишера\", (-1, 5), 100)\n",
    "spystats.weibull_min(2).rvs(size = s),]) #\"Распределение Вейбулла\", (-1, 5), 100)\n",
    "sumArray = concatArray.sum(0)\n",
    "concatArray = np.reshape(concatArray, s * 11)\n",
    "print(\"SumArray: \\n\", sumArray)\n",
    "print(\"Shape = \", sumArray.shape)\n",
    "print(\"ConcatArray: \\n\", concatArray)\n",
    "print(\"Shape = \", concatArray.shape)\n",
    "\n",
    "fig = plt.figure(figsize=(20, 9))\n",
    "ax1 = plt.subplot(1, 2, 1)\n",
    "\n",
    "ax2 = plt.subplot(1, 2, 2)\n",
    "ax1.set_ylim(0, 1)\n",
    "ax1.hist(concatArray, bins=100, density=True, range=(-5, 5), alpha=0.5, label=\"Гистограмма выборки\")\n",
    "ax2.hist(sumArray, bins=100, density=True, range=(-5, 5), alpha=0.5, label=\"Гистограмма выборки\")\n",
    "ax1.set_title(\"{}, bins = {}\\nM(X) = {}\\nStandart deviation = {}\\nMedian = {}\".format(\"Конкатенация распределений\", 100,\n",
    "                                        concatArray.mean(), concatArray.std(), np.median(concatArray)), fontsize=15)\n",
    "ax2.set_title(\"{}, bins = {}\\nM(X) = {}\\nStandart deviation = {}\\nMedian = {}\".format(\"Поэлементная сумма распределений\", 100,\n",
    "                                        sumArray.mean(), sumArray.std(), np.median(sumArray)), fontsize=15)\n",
    "plt.show()"
   ]
  }
 ],
 "metadata": {
  "interpreter": {
   "hash": "072ad2717aced13da2464633fafffe265ee2565f90b63192d9763df769f68df5"
  },
  "kernelspec": {
   "display_name": "Python 3.10.1 64-bit",
   "language": "python",
   "name": "python3"
  },
  "language_info": {
   "codemirror_mode": {
    "name": "ipython",
    "version": 3
   },
   "file_extension": ".py",
   "mimetype": "text/x-python",
   "name": "python",
   "nbconvert_exporter": "python",
   "pygments_lexer": "ipython3",
   "version": "3.8.10"
  },
  "orig_nbformat": 4
 },
 "nbformat": 4,
 "nbformat_minor": 2
}
